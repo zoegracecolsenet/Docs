{
  "cells": [
    {
      "cell_type": "markdown",
      "metadata": {
        "id": "view-in-github",
        "colab_type": "text"
      },
      "source": [
        "<a href=\"https://colab.research.google.com/github/zoegracecolsenet/Docs/blob/main/numpy.ipynb\" target=\"_parent\"><img src=\"https://colab.research.google.com/assets/colab-badge.svg\" alt=\"Open In Colab\"/></a>"
      ]
    },
    {
      "cell_type": "markdown",
      "metadata": {
        "id": "MMFnYVCoXNLN"
      },
      "source": [
        "# Intrduction to NumPy\n",
        "\n",
        "\n",
        "#### 1. Import NumPy under the name np."
      ]
    },
    {
      "cell_type": "code",
      "execution_count": 1,
      "metadata": {
        "id": "i36VwsCQXNLg"
      },
      "outputs": [],
      "source": [
        "import numpy as np\n"
      ]
    },
    {
      "cell_type": "markdown",
      "metadata": {
        "id": "p_vQzH6_XNLh"
      },
      "source": [
        "#### 2. Print your NumPy version."
      ]
    },
    {
      "cell_type": "code",
      "execution_count": 2,
      "metadata": {
        "colab": {
          "base_uri": "https://localhost:8080/"
        },
        "id": "L2rtEo1AXNLh",
        "outputId": "8e832ab8-b63e-48ce-faa5-c511610568f8"
      },
      "outputs": [
        {
          "output_type": "stream",
          "name": "stdout",
          "text": [
            "2.0.2\n"
          ]
        }
      ],
      "source": [
        "print(np.__version__)\n"
      ]
    },
    {
      "cell_type": "markdown",
      "metadata": {
        "id": "YdCehuyxXNLh"
      },
      "source": [
        "#### 3. Generate a 2x3x5 3-dimensional array with random values. Assign the array to variable *a*.\n",
        "**Challenge**: there are at least three easy ways that use numpy to generate random arrays. How many ways can you find?"
      ]
    },
    {
      "cell_type": "code",
      "execution_count": 4,
      "metadata": {
        "id": "KvX8QRRhXNLi"
      },
      "outputs": [],
      "source": [
        "a = np.random.random((2, 3, 5))\n"
      ]
    },
    {
      "cell_type": "code",
      "execution_count": 5,
      "metadata": {
        "id": "5OUmEKqVXNLi"
      },
      "outputs": [],
      "source": [
        "a = np.random.rand(2, 3, 5)\n"
      ]
    },
    {
      "cell_type": "code",
      "execution_count": 6,
      "metadata": {
        "id": "WistlqlhXNLi"
      },
      "outputs": [],
      "source": [
        "a = np.random.uniform(size=(2, 3, 5))\n"
      ]
    },
    {
      "cell_type": "markdown",
      "metadata": {
        "id": "u5u7lXYxXNLi"
      },
      "source": [
        "#### 4. Print *a*.\n"
      ]
    },
    {
      "cell_type": "code",
      "execution_count": 7,
      "metadata": {
        "colab": {
          "base_uri": "https://localhost:8080/"
        },
        "id": "vHmiP5j5XNLi",
        "outputId": "74e96d33-74e1-4a73-bcfa-4507b040ebb2"
      },
      "outputs": [
        {
          "output_type": "stream",
          "name": "stdout",
          "text": [
            "[[[0.77456792 0.33269296 0.85967336 0.13703487 0.82281319]\n",
            "  [0.81759003 0.75884053 0.27817612 0.58007685 0.554631  ]\n",
            "  [0.94853199 0.18332828 0.32591976 0.88602769 0.70086243]]\n",
            "\n",
            " [[0.43653687 0.81992114 0.53298727 0.26664651 0.63991991]\n",
            "  [0.67140536 0.18588192 0.77555483 0.76991521 0.95311761]\n",
            "  [0.83167692 0.12345876 0.04676666 0.04473732 0.47978509]]]\n"
          ]
        }
      ],
      "source": [
        "print(a)\n"
      ]
    },
    {
      "cell_type": "markdown",
      "metadata": {
        "id": "VGnM0zCsXNLi"
      },
      "source": [
        "#### 5. Create a 5x2x3 3-dimensional array with all values equaling 1. Assign the array to variable *b*."
      ]
    },
    {
      "cell_type": "code",
      "execution_count": 8,
      "metadata": {
        "id": "G5gGgNtGXNLj"
      },
      "outputs": [],
      "source": [
        "b = np.ones((5, 2, 3))\n"
      ]
    },
    {
      "cell_type": "markdown",
      "metadata": {
        "id": "gPhmKqBMXNLj"
      },
      "source": [
        "#### 6. Print *b*.\n"
      ]
    },
    {
      "cell_type": "code",
      "execution_count": 9,
      "metadata": {
        "colab": {
          "base_uri": "https://localhost:8080/"
        },
        "id": "tyDjOB6FXNLj",
        "outputId": "950f1a25-df83-4418-f334-f0fea503b1fc"
      },
      "outputs": [
        {
          "output_type": "stream",
          "name": "stdout",
          "text": [
            "[[[1. 1. 1.]\n",
            "  [1. 1. 1.]]\n",
            "\n",
            " [[1. 1. 1.]\n",
            "  [1. 1. 1.]]\n",
            "\n",
            " [[1. 1. 1.]\n",
            "  [1. 1. 1.]]\n",
            "\n",
            " [[1. 1. 1.]\n",
            "  [1. 1. 1.]]\n",
            "\n",
            " [[1. 1. 1.]\n",
            "  [1. 1. 1.]]]\n"
          ]
        }
      ],
      "source": [
        "print(b)\n"
      ]
    },
    {
      "cell_type": "markdown",
      "metadata": {
        "id": "-VPssfCHXNLj"
      },
      "source": [
        "#### 7. Do *a* and *b* have the same size? How do you prove that in Python code?"
      ]
    },
    {
      "cell_type": "code",
      "execution_count": 10,
      "metadata": {
        "colab": {
          "base_uri": "https://localhost:8080/"
        },
        "id": "sDz9s4JOXNLj",
        "outputId": "b749832d-d37f-4dab-915d-cc8205f4abef"
      },
      "outputs": [
        {
          "output_type": "stream",
          "name": "stdout",
          "text": [
            "True\n"
          ]
        }
      ],
      "source": [
        "print(a.size == b.size)\n"
      ]
    },
    {
      "cell_type": "markdown",
      "metadata": {
        "id": "M63oSGk6XNLk"
      },
      "source": [
        "#### 8. Are you able to add *a* and *b*? Why or why not?\n"
      ]
    },
    {
      "cell_type": "code",
      "execution_count": 12,
      "metadata": {
        "colab": {
          "base_uri": "https://localhost:8080/"
        },
        "id": "oKbPaacBXNLk",
        "outputId": "361b9847-b2b6-49d8-deea-8468ee99c602"
      },
      "outputs": [
        {
          "output_type": "stream",
          "name": "stdout",
          "text": [
            "Cannot add a and b: operands could not be broadcast together with shapes (2,3,5) (5,2,3) \n"
          ]
        }
      ],
      "source": [
        "# No, because the operands could not be broadcast together\n",
        "try:\n",
        "    result = a + b\n",
        "except ValueError as e:\n",
        "    print(\"Cannot add a and b:\", e)\n"
      ]
    },
    {
      "cell_type": "markdown",
      "metadata": {
        "id": "f08FwSPDXNLk"
      },
      "source": [
        "#### 9. Transpose *b* so that it has the same structure of *a* (i.e. become a 2x3x5 array). Assign the transposed array to variable *c*."
      ]
    },
    {
      "cell_type": "code",
      "execution_count": 14,
      "metadata": {
        "colab": {
          "base_uri": "https://localhost:8080/"
        },
        "id": "7NBNkkzNXNLk",
        "outputId": "c132ee86-9bbe-44df-e07e-d1db87832fa5"
      },
      "outputs": [
        {
          "output_type": "stream",
          "name": "stdout",
          "text": [
            "(2, 3, 5)\n"
          ]
        }
      ],
      "source": [
        "c = b.transpose(1, 2, 0)  # from (5, 2, 3) to (2, 3, 5)\n",
        "print(c.shape)\n"
      ]
    },
    {
      "cell_type": "markdown",
      "metadata": {
        "id": "RpPs0vQxXNLk"
      },
      "source": [
        "#### 10. Try to add *a* and *c*. Now it should work. Assign the sum to variable *d*. But why does it work now?"
      ]
    },
    {
      "cell_type": "code",
      "execution_count": 33,
      "metadata": {
        "colab": {
          "base_uri": "https://localhost:8080/"
        },
        "id": "CJQoMdOgXNLk",
        "outputId": "afac202f-baf9-43c8-e0fe-ac5e971b534b"
      },
      "outputs": [
        {
          "output_type": "stream",
          "name": "stdout",
          "text": [
            "[[[1.77456792 1.33269296 1.85967336 1.13703487 1.82281319]\n",
            "  [1.81759003 1.75884053 1.27817612 1.58007685 1.554631  ]\n",
            "  [1.94853199 1.18332828 1.32591976 1.88602769 1.70086243]]\n",
            "\n",
            " [[1.43653687 1.81992114 1.53298727 1.26664651 1.63991991]\n",
            "  [1.67140536 1.18588192 1.77555483 1.76991521 1.95311761]\n",
            "  [1.83167692 1.12345876 1.04676666 1.04473732 1.47978509]]]\n"
          ]
        }
      ],
      "source": [
        "d = a + c\n",
        "print(d)\n",
        "# because their shapes are the same\n"
      ]
    },
    {
      "cell_type": "markdown",
      "metadata": {
        "id": "BmpNo6BVXNLl"
      },
      "source": [
        "#### 11. Print *a* and *d*. Notice the difference and relation of the two array in terms of the values? Explain."
      ]
    },
    {
      "cell_type": "code",
      "execution_count": 17,
      "metadata": {
        "colab": {
          "base_uri": "https://localhost:8080/"
        },
        "id": "z1bpqa-EXNLl",
        "outputId": "10b82edb-ea6f-4e7c-9fdf-331660334df9"
      },
      "outputs": [
        {
          "output_type": "stream",
          "name": "stdout",
          "text": [
            "a:\n",
            " [[[0.77456792 0.33269296 0.85967336 0.13703487 0.82281319]\n",
            "  [0.81759003 0.75884053 0.27817612 0.58007685 0.554631  ]\n",
            "  [0.94853199 0.18332828 0.32591976 0.88602769 0.70086243]]\n",
            "\n",
            " [[0.43653687 0.81992114 0.53298727 0.26664651 0.63991991]\n",
            "  [0.67140536 0.18588192 0.77555483 0.76991521 0.95311761]\n",
            "  [0.83167692 0.12345876 0.04676666 0.04473732 0.47978509]]]\n",
            "d:\n",
            " [[[1.77456792 1.33269296 1.85967336 1.13703487 1.82281319]\n",
            "  [1.81759003 1.75884053 1.27817612 1.58007685 1.554631  ]\n",
            "  [1.94853199 1.18332828 1.32591976 1.88602769 1.70086243]]\n",
            "\n",
            " [[1.43653687 1.81992114 1.53298727 1.26664651 1.63991991]\n",
            "  [1.67140536 1.18588192 1.77555483 1.76991521 1.95311761]\n",
            "  [1.83167692 1.12345876 1.04676666 1.04473732 1.47978509]]]\n"
          ]
        }
      ],
      "source": [
        "print(\"a:\\n\", a)\n",
        "print(\"d:\\n\", d)\n",
        "# all the elements in d is greater than in a\n"
      ]
    },
    {
      "cell_type": "markdown",
      "metadata": {
        "id": "9vtuW7LfXNLl"
      },
      "source": [
        "#### 12. Multiply *a* and *c*. Assign the result to *e*."
      ]
    },
    {
      "cell_type": "code",
      "execution_count": 18,
      "metadata": {
        "colab": {
          "base_uri": "https://localhost:8080/"
        },
        "id": "tX2MFgXbXNLl",
        "outputId": "89d72688-c34a-4d89-e8d8-8b703965e3ce"
      },
      "outputs": [
        {
          "output_type": "stream",
          "name": "stdout",
          "text": [
            "[[[0.77456792 0.33269296 0.85967336 0.13703487 0.82281319]\n",
            "  [0.81759003 0.75884053 0.27817612 0.58007685 0.554631  ]\n",
            "  [0.94853199 0.18332828 0.32591976 0.88602769 0.70086243]]\n",
            "\n",
            " [[0.43653687 0.81992114 0.53298727 0.26664651 0.63991991]\n",
            "  [0.67140536 0.18588192 0.77555483 0.76991521 0.95311761]\n",
            "  [0.83167692 0.12345876 0.04676666 0.04473732 0.47978509]]]\n"
          ]
        }
      ],
      "source": [
        "e = a * c\n",
        "print(e)\n"
      ]
    },
    {
      "cell_type": "markdown",
      "metadata": {
        "id": "aQINCI2KXNLm"
      },
      "source": [
        "#### 13. Does *e* equal to *a*? Why or why not?\n"
      ]
    },
    {
      "cell_type": "code",
      "execution_count": 20,
      "metadata": {
        "colab": {
          "base_uri": "https://localhost:8080/"
        },
        "id": "1H3n9YKOXNLm",
        "outputId": "c1e9d7cd-e3c6-4f53-953c-bf7b2d0708a7"
      },
      "outputs": [
        {
          "output_type": "stream",
          "name": "stdout",
          "text": [
            "True\n"
          ]
        }
      ],
      "source": [
        "print(np.array_equal(e, a))  # yes because it is multiplied by one\n"
      ]
    },
    {
      "cell_type": "markdown",
      "metadata": {
        "id": "mbVGo6N1XNLm"
      },
      "source": [
        "#### 14. Identify the max, min, and mean values in *d*. Assign those values to variables *d_max*, *d_min* and *d_mean*."
      ]
    },
    {
      "cell_type": "code",
      "execution_count": 22,
      "metadata": {
        "colab": {
          "base_uri": "https://localhost:8080/"
        },
        "id": "JQfwf9dyXNLm",
        "outputId": "13a2af73-5bf7-4d1f-d066-480d818f2350"
      },
      "outputs": [
        {
          "output_type": "stream",
          "name": "stdout",
          "text": [
            "max: 1.9531176117410254\n",
            "min: 1.0447373166926153\n",
            "mean: 1.55130261193876\n"
          ]
        }
      ],
      "source": [
        "d_max = d.max()\n",
        "d_min = d.min()\n",
        "d_mean = d.mean()\n",
        "\n",
        "print(\"max:\", d_max)\n",
        "print(\"min:\", d_min)\n",
        "print(\"mean:\", d_mean)\n"
      ]
    },
    {
      "cell_type": "markdown",
      "metadata": {
        "id": "sX3w3wZLXNLm"
      },
      "source": [
        "#### 15. Now we want to label the values in *d*. First create an empty array *f* with the same shape (i.e. 2x3x5) as *d* using `np.empty`.\n"
      ]
    },
    {
      "cell_type": "code",
      "execution_count": 24,
      "metadata": {
        "id": "G3wSxJTxXNLm"
      },
      "outputs": [],
      "source": [
        "f = np.empty_like(d)\n"
      ]
    },
    {
      "cell_type": "markdown",
      "metadata": {
        "id": "w-yPuptbXNLm"
      },
      "source": [
        "#### 16. Populate the values in *f*.\n",
        "\n",
        "For each value in *d*, if it's larger than *d_min* but smaller than *d_mean*, assign 25 to the corresponding value in *f*. If a value in *d* is larger than *d_mean* but smaller than *d_max*, assign 75 to the corresponding value in *f*. If a value equals to *d_mean*, assign 50 to the corresponding value in *f*. Assign 0 to the corresponding value(s) in *f* for *d_min* in *d*. Assign 100 to the corresponding value(s) in *f* for *d_max* in *d*. In the end, f should have only the following values: 0, 25, 50, 75, and 100.\n",
        "\n",
        "**Note**: you don't have to use Numpy in this question."
      ]
    },
    {
      "cell_type": "code",
      "execution_count": 25,
      "metadata": {
        "id": "XsxNRbWHXNLn"
      },
      "outputs": [],
      "source": [
        "f[(d > d_min) & (d < d_mean)] = 25\n",
        "f[(d > d_mean) & (d < d_max)] = 75\n",
        "f[d == d_mean] = 50\n",
        "f[d == d_min] = 0\n",
        "f[d == d_max] = 100\n"
      ]
    },
    {
      "cell_type": "markdown",
      "metadata": {
        "id": "wXQs5l7GXNLn"
      },
      "source": [
        "#### 17. Print *d* and *f*. Do you have your expected *f*?\n",
        "For instance, if your *d* is:\n",
        "```python\n",
        "[[[1.85836099, 1.67064465, 1.62576044, 1.40243961, 1.88454931],\n",
        "[1.75354326, 1.69403643, 1.36729252, 1.61415071, 1.12104981],\n",
        "[1.72201435, 1.1862918 , 1.87078449, 1.7726778 , 1.88180042]],\n",
        "[[1.44747908, 1.31673383, 1.02000951, 1.52218947, 1.97066381],\n",
        "[1.79129243, 1.74983003, 1.96028037, 1.85166831, 1.65450881],\n",
        "[1.18068344, 1.9587381 , 1.00656599, 1.93402165, 1.73514584]]]\n",
        "```\n",
        "Your *f* should be:\n",
        "```python\n",
        "[[[ 75.,  75.,  75.,  25.,  75.],\n",
        "[ 75.,  75.,  25.,  25.,  25.],\n",
        "[ 75.,  25.,  75.,  75.,  75.]],\n",
        "[[ 25.,  25.,  25.,  25., 100.],\n",
        "[ 75.,  75.,  75.,  75.,  75.],\n",
        "[ 25.,  75.,   0.,  75.,  75.]]]\n",
        "```"
      ]
    },
    {
      "cell_type": "code",
      "execution_count": 26,
      "metadata": {
        "colab": {
          "base_uri": "https://localhost:8080/"
        },
        "id": "x4AixKMvXNLn",
        "outputId": "f8dc066f-edaa-40b8-8edd-9075f54bf9af"
      },
      "outputs": [
        {
          "output_type": "stream",
          "name": "stdout",
          "text": [
            "d:\n",
            " [[[1.77456792 1.33269296 1.85967336 1.13703487 1.82281319]\n",
            "  [1.81759003 1.75884053 1.27817612 1.58007685 1.554631  ]\n",
            "  [1.94853199 1.18332828 1.32591976 1.88602769 1.70086243]]\n",
            "\n",
            " [[1.43653687 1.81992114 1.53298727 1.26664651 1.63991991]\n",
            "  [1.67140536 1.18588192 1.77555483 1.76991521 1.95311761]\n",
            "  [1.83167692 1.12345876 1.04676666 1.04473732 1.47978509]]]\n",
            "f:\n",
            " [[[ 75.  25.  75.  25.  75.]\n",
            "  [ 75.  75.  25.  75.  75.]\n",
            "  [ 75.  25.  25.  75.  75.]]\n",
            "\n",
            " [[ 25.  75.  25.  25.  75.]\n",
            "  [ 75.  25.  75.  75. 100.]\n",
            "  [ 75.  25.  25.   0.  25.]]]\n"
          ]
        }
      ],
      "source": [
        "print(\"d:\\n\", d)\n",
        "print(\"f:\\n\", f)\n"
      ]
    },
    {
      "cell_type": "markdown",
      "metadata": {
        "id": "1I1uaafhXNLn"
      },
      "source": [
        "#### 18. Bonus question: instead of using numbers (i.e. 0, 25, 50, 75, and 100), use string values  (\"A\", \"B\", \"C\", \"D\", and \"E\") to label the array elements. For the example above, the expected result is:\n",
        "\n",
        "```python\n",
        "[[[ 'D',  'D',  'D',  'B',  'D'],\n",
        "[ 'D',  'D',  'B',  'B',  'B'],\n",
        "[ 'D',  'B',  'D',  'D',  'D']],\n",
        "[[ 'B',  'B',  'B',  'B',  'E'],\n",
        "[ 'D',  'D',  'D',  'D',  'D'],\n",
        "[ 'B',  'D',   'A',  'D', 'D']]]\n",
        "```\n",
        "**Note**: you don't have to use Numpy in this question."
      ]
    },
    {
      "cell_type": "code",
      "execution_count": 32,
      "metadata": {
        "colab": {
          "base_uri": "https://localhost:8080/"
        },
        "id": "nQAwuiL5XNLn",
        "outputId": "92d8a90d-d8ef-4c66-de22-d167a17e5f21"
      },
      "outputs": [
        {
          "output_type": "stream",
          "name": "stdout",
          "text": [
            "[[['d' 'b' 'd' 'b' 'd']\n",
            "  ['d' 'd' 'b' 'd' 'd']\n",
            "  ['d' 'b' 'b' 'd' 'd']]\n",
            "\n",
            " [['b' 'd' 'b' 'b' 'd']\n",
            "  ['d' 'b' 'd' 'd' 'e']\n",
            "  ['d' 'b' 'b' 'a' 'b']]]\n"
          ]
        }
      ],
      "source": [
        "fstr = np.empty(d.shape, dtype=object)\n",
        "fstr[(d > d_min) & (d < d_mean)] = \"b\"\n",
        "fstr[(d > d_mean) & (d < d_max)] = \"d\"\n",
        "fstr[d == d_mean] = \"c\"\n",
        "fstr[d == d_min] = \"a\"\n",
        "fstr[d == d_max] = \"e\"\n",
        "\n",
        "print(fstr)\n"
      ]
    }
  ],
  "metadata": {
    "kernelspec": {
      "display_name": "Python 3",
      "language": "python",
      "name": "python3"
    },
    "language_info": {
      "codemirror_mode": {
        "name": "ipython",
        "version": 3
      },
      "file_extension": ".py",
      "mimetype": "text/x-python",
      "name": "python",
      "nbconvert_exporter": "python",
      "pygments_lexer": "ipython3",
      "version": "3.7.2"
    },
    "colab": {
      "provenance": [],
      "include_colab_link": true
    }
  },
  "nbformat": 4,
  "nbformat_minor": 0
}