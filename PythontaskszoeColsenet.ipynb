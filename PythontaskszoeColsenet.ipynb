{
  "nbformat": 4,
  "nbformat_minor": 0,
  "metadata": {
    "colab": {
      "provenance": [],
      "authorship_tag": "ABX9TyPHoqi/KkiGmFuLQPmlZzru",
      "include_colab_link": true
    },
    "kernelspec": {
      "name": "python3",
      "display_name": "Python 3"
    },
    "language_info": {
      "name": "python"
    }
  },
  "cells": [
    {
      "cell_type": "markdown",
      "metadata": {
        "id": "view-in-github",
        "colab_type": "text"
      },
      "source": [
        "<a href=\"https://colab.research.google.com/github/zoegracecolsenet/Docs/blob/main/PythontaskszoeColsenet.ipynb\" target=\"_parent\"><img src=\"https://colab.research.google.com/assets/colab-badge.svg\" alt=\"Open In Colab\"/></a>"
      ]
    },
    {
      "cell_type": "code",
      "execution_count": 3,
      "metadata": {
        "colab": {
          "base_uri": "https://localhost:8080/"
        },
        "id": "cq1-lgEEHMZs",
        "outputId": "dcbc4db2-dda0-4a8d-9942-463d4c9f930c"
      },
      "outputs": [
        {
          "output_type": "stream",
          "name": "stdout",
          "text": [
            "7200\n"
          ]
        }
      ],
      "source": [
        "#convert hours into seconds\n",
        "def hourstosecs(hours):\n",
        "  seconds=hours*3600\n",
        "  return seconds\n",
        "\n",
        "x= 2\n",
        "y= hourstosecs(x)\n",
        "print(y)"
      ]
    },
    {
      "cell_type": "code",
      "source": [
        "#⁠Given a list of numbers. write a program to turn every item of a list into its square\n",
        "numbers= [ 1,2,3,4,54,6,7,8,9]\n",
        "numbers2 = []\n",
        "for i in numbers:\n",
        "  a=i**2\n",
        "  numbers2.append(a)\n",
        "\n",
        "print(numbers2)\n"
      ],
      "metadata": {
        "colab": {
          "base_uri": "https://localhost:8080/"
        },
        "id": "f22QwKG8ImqJ",
        "outputId": "b06f63e6-d7ad-446b-905b-529c920dd150"
      },
      "execution_count": 14,
      "outputs": [
        {
          "output_type": "stream",
          "name": "stdout",
          "text": [
            "[1, 4, 9, 16, 2916, 36, 49, 64, 81]\n"
          ]
        }
      ]
    },
    {
      "cell_type": "code",
      "source": [
        "#⁠Given two strings, s1 and s2. Write a program to create a new string s3 made of the first char of s1, then the last char of s2, Next, the second char of s1 and second last char of s2, and so on. Any leftover chars go at the end of the result.\n",
        "stringggg1=\"zoe\"\n",
        "stringggg2=\"guillerheme\"\n",
        "\n",
        "s1calculator= len(stringggg1)\n",
        "s2calculator= len(stringggg2)\n",
        "\n",
        "x= min(s1calculator,s2calculator)\n",
        "\n",
        "finalstring=\"\"\n",
        "for i in range(0, x):\n",
        "  finalstring= finalstring+stringggg1[i]+stringggg2[-(i+1)]\n",
        "\n",
        "\n",
        "if s1calculator > s2calculator:\n",
        "  biggerstring = stringggg1[i : s1calculator]\n",
        "else:\n",
        "  biggerstring = stringggg2[0 : -(i+1)]\n",
        "\n",
        "\n",
        "print(finalstring+biggerstring)"
      ],
      "metadata": {
        "colab": {
          "base_uri": "https://localhost:8080/"
        },
        "id": "TS3j97OwLC7k",
        "outputId": "1c076b96-23ce-4590-dd65-3d6a2f9de5b8"
      },
      "execution_count": 27,
      "outputs": [
        {
          "output_type": "stream",
          "name": "stdout",
          "text": [
            "zeomeeguillerh\n"
          ]
        }
      ]
    },
    {
      "cell_type": "code",
      "source": [
        "#⁠Get the key of a minimum value from the given dictionary\n",
        "dictionary = {'a': 6, 'b': 8, 'c': 2, 'd': 1}\n",
        "\n",
        "minkey = min(dictionary, key=dictionary.get)\n",
        "\n",
        "print(minkey)"
      ],
      "metadata": {
        "colab": {
          "base_uri": "https://localhost:8080/"
        },
        "id": "mdlGEY-oPNLT",
        "outputId": "1d01365f-9fb9-447e-e675-a890f2704c92"
      },
      "execution_count": 29,
      "outputs": [
        {
          "output_type": "stream",
          "name": "stdout",
          "text": [
            "d\n"
          ]
        }
      ]
    },
    {
      "cell_type": "code",
      "source": [
        "#⁠Write a program to calculate the sum of series up to n term. For example, if n =5 the series will become 1 + 11 + 111 + 1111 + 11111\n",
        "\n",
        "n = 5\n",
        "term = 0\n",
        "total = 0\n",
        "\n",
        "for i in range(n):\n",
        "    term = term * 10 + 1\n",
        "    total += term\n",
        "    print(term, end=\" \")\n",
        "\n",
        "print(\"\\nSum of series:\", total)\n"
      ],
      "metadata": {
        "colab": {
          "base_uri": "https://localhost:8080/"
        },
        "id": "JstVFK4wPoDt",
        "outputId": "f90be3ca-6ec0-4e37-9a86-8e71e725a918"
      },
      "execution_count": 30,
      "outputs": [
        {
          "output_type": "stream",
          "name": "stdout",
          "text": [
            "1 11 111 1111 11111 \n",
            "Sum of series: 12345\n"
          ]
        }
      ]
    },
    {
      "cell_type": "code",
      "source": [
        "#⁠Calculate multiplication of two random float numbers (generate random number first)\n",
        "import random\n",
        "\n",
        "z = random.uniform(1.0, 10.0)\n",
        "gui = random.uniform(1.0, 10.0)\n",
        "\n",
        "product = z * gui\n",
        "\n",
        "print(\"Random float z:\", z)\n",
        "print(\"Random float g:\", gui)\n",
        "print(\"Product:\", product)\n"
      ],
      "metadata": {
        "colab": {
          "base_uri": "https://localhost:8080/"
        },
        "id": "HlN-MWRtSqHz",
        "outputId": "8aa3d029-2292-40ba-dde1-31cf83ac1fc2"
      },
      "execution_count": 32,
      "outputs": [
        {
          "output_type": "stream",
          "name": "stdout",
          "text": [
            "Random float z: 4.082715377202369\n",
            "Random float g: 5.5834832381796\n",
            "Product: 22.79577287486753\n"
          ]
        }
      ]
    }
  ]
}